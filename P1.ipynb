{
 "cells": [
  {
   "cell_type": "markdown",
   "metadata": {},
   "source": [
    "# Self-Driving Car Engineer Nanodegree\n",
    "\n",
    "\n",
    "## Project: **Finding Lane Lines on the Road** \n",
    "***\n",
    "More detail in the writeup report. Rubric: [link](https://review.udacity.com/#!/rubrics/322/view)"
   ]
  },
  {
   "cell_type": "markdown",
   "metadata": {},
   "source": [
    "## Import Packages"
   ]
  },
  {
   "cell_type": "code",
   "execution_count": 15,
   "metadata": {},
   "outputs": [],
   "source": [
    "import math\n",
    "import matplotlib.pyplot as plt\n",
    "import matplotlib.image as mpimg\n",
    "import numpy as np\n",
    "import cv2\n",
    "import os\n",
    "from moviepy.editor import VideoFileClip\n",
    "from IPython.display import HTML\n",
    "%matplotlib inline"
   ]
  },
  {
   "cell_type": "markdown",
   "metadata": {},
   "source": [
    "## Video Input and Output"
   ]
  },
  {
   "cell_type": "code",
   "execution_count": 16,
   "metadata": {},
   "outputs": [],
   "source": [
    "#ToDo Replace the video input and out\n",
    "\n",
    "video_output = 'test_videos_output/solidWhiteRight.mp4'\n",
    "video_input = 'test_videos/solidWhiteRight.mp4'\n",
    "\n",
    "#video_output = 'test_videos_output/solidYellowLeft.mp4'\n",
    "#video_input = 'test_videos/solidYellowLeft.mp4'"
   ]
  },
  {
   "cell_type": "markdown",
   "metadata": {},
   "source": [
    "## Helper Functions"
   ]
  },
  {
   "cell_type": "code",
   "execution_count": 20,
   "metadata": {},
   "outputs": [],
   "source": [
    "def canny(img, low_threshold, high_threshold):\n",
    "    \"\"\"Applies (Gauss smoothing and) the Canny transform\"\"\"\n",
    "    return cv2.Canny(img, low_threshold, high_threshold)\n",
    "\n",
    "def region_of_interest(img, vertices):\n",
    "    \"\"\"\n",
    "    Only keeps the region of the image defined by the polygon\n",
    "    formed from `vertices`. The rest of the image is set to black.\n",
    "    `vertices` should be a numpy array of integer points.\n",
    "    \"\"\"\n",
    "    #defining a blank mask to start with\n",
    "    mask = np.zeros_like(img)   \n",
    "    \n",
    "    #defining a 3 channel or 1 channel color to fill the mask with depending on the input image\n",
    "    if len(img.shape) > 2:\n",
    "        channel_count = img.shape[2]  # i.e. 3 or 4 depending on your image\n",
    "        ignore_mask_color = (255,) * channel_count\n",
    "    else:\n",
    "        ignore_mask_color = 255\n",
    "        \n",
    "    #filling pixels inside the polygon defined by \"vertices\" with the fill color    \n",
    "    cv2.fillPoly(mask, vertices, ignore_mask_color)\n",
    "    \n",
    "    #returning the image only where mask pixels are nonzero\n",
    "    masked_image = cv2.bitwise_and(img, mask)\n",
    "    return masked_image\n",
    "\n",
    "\n",
    "def draw_lines(img, lines, yCutOff, color=[255, 0, 0], thickness=2):\n",
    "    \"\"\"\n",
    "    Line segments separated by their slope: ((y2-y1)/(x2-x1))\n",
    "    Lines with below average slope: Right lane; Others: Left lane\n",
    "    Lines representing these lanes are drawn on the image\n",
    "    inplace (mutates the image) in the region of interest.\n",
    "    yCutOff variable is from RoI code segment.\n",
    "    \"\"\"\n",
    "    \n",
    "    # Calculating slope for line segments\n",
    "    slope = np.zeros(len(lines))\n",
    "    i = 0\n",
    "    for line in lines:\n",
    "        for x1,y1,x2,y2 in line:\n",
    "            slope[i] = ((y2-y1)/(x2-x1))\n",
    "        i += 1\n",
    "    avgslope = np.average(slope)\n",
    "    \n",
    "    # Calculating the left and right lane line parameters\n",
    "    # y=m*x+b\n",
    "    leftlanem = 0\n",
    "    leftlaneb = 0\n",
    "    rightlanem = 0\n",
    "    rightlaneb = 0\n",
    "    rl = 0\n",
    "    ll = 0\n",
    "    for line in lines:\n",
    "        for x1,y1,x2,y2 in line:\n",
    "            if ((y2-y1)/(x2-x1)) > avgslope:\n",
    "                rightlanem += (y2-y1)/(x2-x1)\n",
    "                rightlaneb += (x2*y1-x1*y2)/(x2-x1)\n",
    "                rl += 1\n",
    "            else:\n",
    "                leftlanem += (y2-y1)/(x2-x1)\n",
    "                leftlaneb += (x2*y1-x1*y2)/(x2-x1)\n",
    "                ll += 1\n",
    "    leftlanem /= ll\n",
    "    leftlaneb /= ll\n",
    "    rightlanem /= rl\n",
    "    rightlaneb /= rl\n",
    "    \n",
    "    # Calculating the intersection of the RoI and the lanes\n",
    "    leftx1 = int((yCutOff-leftlaneb)/leftlanem)\n",
    "    leftx2 = int((img.shape[0]-leftlaneb)/leftlanem)\n",
    "    rightx1 = int((yCutOff-rightlaneb)/rightlanem)\n",
    "    rightx2 = int((img.shape[0]-rightlaneb)/rightlanem)\n",
    "    \n",
    "    # Drawing the lanes on the image\n",
    "    cv2.line(img, (leftx1, int(yCutOff)), (leftx2, img.shape[0]), color, thickness)\n",
    "    cv2.line(img, (rightx1, int(yCutOff)), (rightx2, img.shape[0]), color, thickness)\n",
    "\n",
    "def hough_lines(img, rho, theta, threshold, min_line_len, max_line_gap, yCutOff):\n",
    "    \"\"\"\n",
    "    `img` should be the output of a Canny transform.    \n",
    "    Returns an image with hough lines drawn.\n",
    "    \"\"\"\n",
    "    lines = cv2.HoughLinesP(img, rho, theta, threshold, np.array([]), minLineLength=min_line_len, maxLineGap=max_line_gap)\n",
    "    line_img = np.zeros((img.shape[0], img.shape[1], 3), dtype=np.uint8)\n",
    "    draw_lines(line_img, lines, yCutOff)\n",
    "    return line_img\n",
    "\n",
    "def weighted_img(img, initial_img, α=0.8, β=1., γ=0.):\n",
    "    \"\"\"\n",
    "    `img` is the output of the hough_lines(), An image with lines drawn on it.\n",
    "    Should be a blank image (all black) with lines drawn on it.\n",
    "    `initial_img` should be the image before any processing.\n",
    "    The result image is computed as follows:\n",
    "    initial_img * α + img * β + γ\n",
    "    NOTE: initial_img and img must be the same shape!\n",
    "    \"\"\"\n",
    "    return cv2.addWeighted(initial_img, α, img, β, γ)\n",
    "\n",
    "def process_image(image):\n",
    "    # Image processing pipeline\n",
    "    # Returns original image with detected left and right lane\n",
    "\n",
    "    # Converting dominantly white and yellow pixels to white 255,255,255\n",
    "    # white 255,255,255; light yellow 255,255,150; dark yellow 200,200,0\n",
    "    imgColorSelect = np.copy(image)\n",
    "    red_threshold = 200\n",
    "    green_threshold = 200\n",
    "    blue_threshold = 0\n",
    "    thresholds = (imgColorSelect[:,:,0] < red_threshold) \\\n",
    "               | (imgColorSelect[:,:,1] < green_threshold) \\\n",
    "               | (imgColorSelect[:,:,2] < blue_threshold)\n",
    "    imgColorSelect[thresholds] = [0,0,0]\n",
    "    imgBinary = np.copy(imgColorSelect)\n",
    "    thresholds2 = (imgBinary[:,:,0] > 1) # non black pixels\n",
    "    imgBinary[thresholds2] = [255,255,255]\n",
    "\n",
    "    # Gaussian smoothing -> not implemented now (CV Canny applies Gaussian smoothing internally) \n",
    "    # Canny edge detection (threshold recommendation: low to high = 1:2 or 1:3)\n",
    "    low_threshold = 60\n",
    "    high_threshold = 180\n",
    "    imgCanny = canny(imgBinary, low_threshold, high_threshold)\n",
    "\n",
    "    # Masking to get Region of Interest \n",
    "    ysize = imgCanny.shape[0]\n",
    "    xsize = imgCanny.shape[1]\n",
    "    lineWidth = 800  # Close to car\n",
    "    xCamOffset1 = 20 # Camera is off center in case of test_images, close to car\n",
    "    xCamOffset2 = 10 # Camera is off center in case of test_images, far from car\n",
    "    yCutOff = ysize/2 + 50 # Cuting off too distant lines (somewhere over ~50 m)\n",
    "    vertices = np.array([[(xsize/2 - lineWidth/2 + xCamOffset1,ysize),\n",
    "                          (xsize/2 - 120 + xCamOffset2, yCutOff),\n",
    "                          (xsize/2 + 120 + xCamOffset2, yCutOff),\n",
    "                          (xsize/2 + lineWidth/2 + xCamOffset1,ysize)]], dtype=np.int32)\n",
    "    imgRoI = region_of_interest(imgCanny, vertices)\n",
    "\n",
    "    # Hough transform\n",
    "    rho = 3            # distance resolution in pixels of the Hough grid, 3\n",
    "    theta = np.pi/180  # angular resolution in radians of the Hough grid, pi/180\n",
    "    threshold = 25     # minimum number of votes (intersections in Hough grid cell), 15\n",
    "    min_line_len = 40  # minimum number of pixels making up a line, 40\n",
    "    max_line_gap = 60  # maximum gap in pixels between connectable line segments, 20\n",
    "    imgHugh = hough_lines(imgRoI, rho, theta, threshold, min_line_len, max_line_gap, yCutOff)\n",
    "\n",
    "    # Overlay original image with detected line segments\n",
    "    result = weighted_img(imgHugh, image, α=0.8, β=1., γ=0.)\n",
    "\n",
    "    return result"
   ]
  },
  {
   "cell_type": "markdown",
   "metadata": {},
   "source": [
    "## Test on Videos"
   ]
  },
  {
   "cell_type": "code",
   "execution_count": 21,
   "metadata": {},
   "outputs": [
    {
     "name": "stdout",
     "output_type": "stream",
     "text": [
      "[MoviePy] >>>> Building video test_videos_output/solidWhiteRight.mp4\n",
      "[MoviePy] Writing video test_videos_output/solidWhiteRight.mp4\n"
     ]
    },
    {
     "name": "stderr",
     "output_type": "stream",
     "text": [
      "100%|█████████▉| 221/222 [00:19<00:00, 11.18it/s]\n"
     ]
    },
    {
     "name": "stdout",
     "output_type": "stream",
     "text": [
      "[MoviePy] Done.\n",
      "[MoviePy] >>>> Video ready: test_videos_output/solidWhiteRight.mp4 \n",
      "\n",
      "CPU times: user 8.65 s, sys: 269 ms, total: 8.92 s\n",
      "Wall time: 21.7 s\n"
     ]
    }
   ],
   "source": [
    "clip1 = VideoFileClip(video_input)\n",
    "video_clip = clip1.fl_image(process_image) #NOTE: this function expects color images!!\n",
    "%time video_clip.write_videofile(video_output, audio=False)"
   ]
  },
  {
   "cell_type": "code",
   "execution_count": 22,
   "metadata": {},
   "outputs": [
    {
     "data": {
      "text/html": [
       "\n",
       "<video width=\"960\" height=\"540\" controls>\n",
       "  <source src=\"test_videos_output/solidWhiteRight.mp4\">\n",
       "</video>\n"
      ],
      "text/plain": [
       "<IPython.core.display.HTML object>"
      ]
     },
     "execution_count": 22,
     "metadata": {},
     "output_type": "execute_result"
    }
   ],
   "source": [
    "HTML(\"\"\"\n",
    "<video width=\"960\" height=\"540\" controls>\n",
    "  <source src=\"{0}\">\n",
    "</video>\n",
    "\"\"\".format(video_output))"
   ]
  }
 ],
 "metadata": {
  "anaconda-cloud": {},
  "kernelspec": {
   "display_name": "Python 3",
   "language": "python",
   "name": "python3"
  },
  "language_info": {
   "codemirror_mode": {
    "name": "ipython",
    "version": 3
   },
   "file_extension": ".py",
   "mimetype": "text/x-python",
   "name": "python",
   "nbconvert_exporter": "python",
   "pygments_lexer": "ipython3",
   "version": "3.6.3"
  }
 },
 "nbformat": 4,
 "nbformat_minor": 1
}
